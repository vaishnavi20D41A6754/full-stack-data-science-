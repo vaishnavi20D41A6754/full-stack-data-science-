{
  "nbformat": 4,
  "nbformat_minor": 0,
  "metadata": {
    "colab": {
      "provenance": [],
      "collapsed_sections": [],
      "include_colab_link": true
    },
    "kernelspec": {
      "name": "python3",
      "display_name": "Python 3"
    },
    "language_info": {
      "name": "python"
    }
  },
  "cells": [
    {
      "cell_type": "markdown",
      "metadata": {
        "id": "view-in-github",
        "colab_type": "text"
      },
      "source": [
        "<a href=\"https://colab.research.google.com/github/vaishnavi20D41A6754/full-stack-data-science-/blob/main/Copy_of_FSDS_bootcamp_assignment_003_Oct_08.ipynb\" target=\"_parent\"><img src=\"https://colab.research.google.com/assets/colab-badge.svg\" alt=\"Open In Colab\"/></a>"
      ]
    },
    {
      "cell_type": "markdown",
      "source": [
        "# ASSIGNMENTS - Compulsory\n",
        "## Send it before 0000 hrs IST or 12 AM Wednesday\n",
        "\n",
        "## NOTE: Evaluation will be done before next class.\n",
        "\n",
        "## HOW TO SUBMIT: -\n",
        "Download this notebook, Solve it and upload in the google form given in the mail."
      ],
      "metadata": {
        "id": "cyOfbWCdOjEr"
      }
    },
    {
      "cell_type": "markdown",
      "source": [
        "## Python String Manipulation\n",
        "\n",
        "1. Count the number of times `iNeuron` appears in the string.\n",
        "```python\n",
        "text = \"Welcome to iNeuron, You are a part of FSDS Bootcamp 2 in iNeuron. I hope you are enjoying the course by iNeuron\"\n",
        "```\n",
        "2. Check if position `5` to `11` ends with the phrase `iNeuron.` in the string \n",
        "```python\n",
        "txt = \"Hello, welcome to FSDS 2.0 at iNeuron.\"\n",
        "```\n",
        "3. Write a program that takes your full name as input and displays the abbreviations of the first and middle names except the last name which is displayed as it is. For example, if your name is Sunny Bhaveen Chandra, then the output should be S.B.Chandra.\n",
        "\n",
        "4. Join all items in a list into a string, using a hash(`#`) character as separator:\n",
        "```python\n",
        "LIST = [\"My\", \"name\", \"is\", \"Rishav\", \"Dash\"]\n",
        "```\n",
        "5. Write example for the following string manipulation function,\n",
        "\n",
        "  ```\n",
        "  - isdecimal()\n",
        "  - islower()\n",
        "  - isupper()\n",
        "  - isalpha()\n",
        "  - isnumeric()\n",
        "\n",
        "  ```\n",
        "6. Indian PAN card format follows the following formats - \n",
        "    - `AYEPC7894X`\n",
        "    - `ABCDE9999Y`\n",
        "  Take user input for PAN_CARD and validate as per the above example.\n"
      ],
      "metadata": {
        "id": "GT4IytkJMNa-"
      }
    },
    {
      "cell_type": "markdown",
      "source": [
        "**1) count no of times ineuron present in string**"
      ],
      "metadata": {
        "id": "9QN-cVAGEx2L"
      }
    },
    {
      "cell_type": "code",
      "source": [
        "txt = \"welcome to ineuron,you are part of ineuron.i hope you are enjoying the cource by ineuron\"\n",
        "x = txt.count(\"ineuron\")\n",
        "print(x)"
      ],
      "metadata": {
        "id": "UwYywxCXE8HG",
        "outputId": "3a51dc4f-2679-4cd3-a3fe-48ec9b88f5e2",
        "colab": {
          "base_uri": "https://localhost:8080/"
        }
      },
      "execution_count": null,
      "outputs": [
        {
          "output_type": "stream",
          "name": "stdout",
          "text": [
            "3\n"
          ]
        }
      ]
    },
    {
      "cell_type": "markdown",
      "source": [
        "**2) check if position 5 to 11 ends with ineuron**"
      ],
      "metadata": {
        "id": "yVANl0hACb_U"
      }
    },
    {
      "cell_type": "code",
      "source": [
        "txt = \"hello, welcome to FSDS 2.0 at ineuron.\"\n",
        "x = txt.endswith(\"ineuron.\",5,11)\n",
        "print(x)"
      ],
      "metadata": {
        "id": "t0A0Al82CrrP",
        "outputId": "fa712e48-4c56-4a0c-f8a2-c2adb9340dad",
        "colab": {
          "base_uri": "https://localhost:8080/"
        }
      },
      "execution_count": null,
      "outputs": [
        {
          "output_type": "stream",
          "name": "stdout",
          "text": [
            "False\n"
          ]
        }
      ]
    },
    {
      "cell_type": "markdown",
      "source": [
        "**3) write a program which takes full name as input and make abbrevations of first and middle names except last name**"
      ],
      "metadata": {
        "id": "-SZXvvtL_Z1x"
      }
    },
    {
      "cell_type": "code",
      "source": [
        "str=input(\"Enter full name\")\n",
        "list1=str.split(\" \")\n",
        "print(list1[0][0],list1[1][0],list1[2])"
      ],
      "metadata": {
        "id": "rWKYbnGqAdFq",
        "outputId": "99b894f8-9d43-4eea-f24d-762eaa577c22",
        "colab": {
          "base_uri": "https://localhost:8080/"
        }
      },
      "execution_count": null,
      "outputs": [
        {
          "output_type": "stream",
          "name": "stdout",
          "text": [
            "Enter full nameSunny Bhaveen Chandra\n",
            "S B Chandra\n"
          ]
        }
      ]
    },
    {
      "cell_type": "markdown",
      "source": [
        "**6) valid pan card number or in valid pan card number**"
      ],
      "metadata": {
        "id": "KjsBWkpY76Yw"
      }
    },
    {
      "cell_type": "code",
      "source": [
        "import re\n",
        "pan = input()\n",
        "result = re.compile(\"[A-Z]{5}[0-9]{4}[A-Z]{1}\")\n",
        "if result.match(pan):\n",
        "  print('valid PAN no')\n",
        "else:\n",
        "  print('invalid PAN no')"
      ],
      "metadata": {
        "id": "dvd_vf-T8HKg",
        "outputId": "b211390f-59d4-422b-be35-5861c5db68df",
        "colab": {
          "base_uri": "https://localhost:8080/"
        }
      },
      "execution_count": null,
      "outputs": [
        {
          "output_type": "stream",
          "name": "stdout",
          "text": [
            "AYEPC7894X\n",
            "valid PAN no\n"
          ]
        }
      ]
    },
    {
      "cell_type": "code",
      "source": [
        "import re\n",
        "pan = input()\n",
        "result = re.compile(\"[A-Z]{5}[0-9]{4}[A-Z]{1}\")\n",
        "if result.match(pan):\n",
        "  print('valid PAN no')\n",
        "else:\n",
        "  print('invalid PAN no')"
      ],
      "metadata": {
        "id": "zdFNNNQb9KiC",
        "outputId": "8607d8c3-c3ec-4132-c88f-f2c1d44f04b3",
        "colab": {
          "base_uri": "https://localhost:8080/"
        }
      },
      "execution_count": null,
      "outputs": [
        {
          "output_type": "stream",
          "name": "stdout",
          "text": [
            "ABCDE9999Y\n",
            "valid PAN no\n"
          ]
        }
      ]
    },
    {
      "cell_type": "markdown",
      "source": [
        "**4) join all the items in the list using (#)**"
      ],
      "metadata": {
        "id": "P935wfLM4nWz"
      }
    },
    {
      "cell_type": "code",
      "source": [
        "s=[\"my\",\"name\",\"is\",\"rishav\",\"dash\"]\n",
        "x=\"#\".join([str(i) for i in s])\n",
        "print(x)"
      ],
      "metadata": {
        "id": "im6XFFrS42OQ",
        "outputId": "6ae05c4d-5522-465a-e0a8-e1b4c6f28c0e",
        "colab": {
          "base_uri": "https://localhost:8080/"
        }
      },
      "execution_count": null,
      "outputs": [
        {
          "output_type": "stream",
          "name": "stdout",
          "text": [
            "my#name#is#rishav#dash\n"
          ]
        }
      ]
    },
    {
      "cell_type": "markdown",
      "source": [
        "**5) write example for the following string manipulation**"
      ],
      "metadata": {
        "id": "TBDwGwZN0dkB"
      }
    },
    {
      "cell_type": "markdown",
      "source": [
        "**isdecimal()**"
      ],
      "metadata": {
        "id": "m1uKHHAn04wg"
      }
    },
    {
      "cell_type": "code",
      "source": [
        "\"0\".isdecimal()"
      ],
      "metadata": {
        "id": "UI8mnS8L1En5",
        "outputId": "f84e111e-5ae9-4cd3-8689-25dc9e37d875",
        "colab": {
          "base_uri": "https://localhost:8080/"
        }
      },
      "execution_count": null,
      "outputs": [
        {
          "output_type": "execute_result",
          "data": {
            "text/plain": [
              "True"
            ]
          },
          "metadata": {},
          "execution_count": 1
        }
      ]
    },
    {
      "cell_type": "markdown",
      "source": [
        "**islower()**"
      ],
      "metadata": {
        "id": "ne9AZwgt1bVm"
      }
    },
    {
      "cell_type": "code",
      "source": [
        "txt = \"hello world!\"\n",
        "x = txt.islower()\n",
        "print(x)"
      ],
      "metadata": {
        "id": "dmKj7joo2LvD",
        "outputId": "dbdbcf69-59f1-413b-a130-d5d4718984d1",
        "colab": {
          "base_uri": "https://localhost:8080/"
        }
      },
      "execution_count": null,
      "outputs": [
        {
          "output_type": "stream",
          "name": "stdout",
          "text": [
            "True\n"
          ]
        }
      ]
    },
    {
      "cell_type": "markdown",
      "source": [
        "**isupper()**"
      ],
      "metadata": {
        "id": "84Mt8mwr2t5y"
      }
    },
    {
      "cell_type": "code",
      "source": [
        "txt = \"THIS IS GOOD\"\n",
        "x = txt.isupper()\n",
        "print(x)"
      ],
      "metadata": {
        "id": "aA2Lz6oU3FF6",
        "outputId": "7273df67-7fe1-4490-9606-6931ff6b8e4a",
        "colab": {
          "base_uri": "https://localhost:8080/"
        }
      },
      "execution_count": null,
      "outputs": [
        {
          "output_type": "stream",
          "name": "stdout",
          "text": [
            "True\n"
          ]
        }
      ]
    },
    {
      "cell_type": "markdown",
      "source": [
        "**isalpha()**"
      ],
      "metadata": {
        "id": "d5EBJyr23X9p"
      }
    },
    {
      "cell_type": "code",
      "source": [
        "txt = \"companyX\"\n",
        "x = txt.isalpha()\n",
        "print(x)"
      ],
      "metadata": {
        "id": "Jv89eRza3fSa",
        "outputId": "bf7647d7-038b-49bc-d6a9-751e9b82cd11",
        "colab": {
          "base_uri": "https://localhost:8080/"
        }
      },
      "execution_count": null,
      "outputs": [
        {
          "output_type": "stream",
          "name": "stdout",
          "text": [
            "True\n"
          ]
        }
      ]
    },
    {
      "cell_type": "markdown",
      "source": [
        "**isnumeric()**"
      ],
      "metadata": {
        "id": "fXnqSs1F4Czr"
      }
    },
    {
      "cell_type": "code",
      "source": [
        "txt =\"5658754\"\n",
        "x = txt.isnumeric()\n",
        "print(x)"
      ],
      "metadata": {
        "id": "6R5lWag04HM3",
        "outputId": "cd494cba-86c3-465a-b0e8-4abb88b07b29",
        "colab": {
          "base_uri": "https://localhost:8080/"
        }
      },
      "execution_count": null,
      "outputs": [
        {
          "output_type": "stream",
          "name": "stdout",
          "text": [
            "True\n"
          ]
        }
      ]
    }
  ]
}