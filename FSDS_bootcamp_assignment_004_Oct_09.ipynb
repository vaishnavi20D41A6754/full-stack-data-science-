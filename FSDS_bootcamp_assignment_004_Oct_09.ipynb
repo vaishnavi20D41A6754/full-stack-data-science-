{
  "nbformat": 4,
  "nbformat_minor": 0,
  "metadata": {
    "colab": {
      "provenance": [],
      "collapsed_sections": []
    },
    "kernelspec": {
      "name": "python3",
      "display_name": "Python 3"
    },
    "language_info": {
      "name": "python"
    }
  },
  "cells": [
    {
      "cell_type": "markdown",
      "source": [
        "# ASSIGNMENTS \n",
        "## Send it before 0000 hrs IST or 12 AM Wednesday\n",
        "\n",
        "## NOTE: Evaluation will be done before next class.\n",
        "\n",
        "## HOW TO SUBMIT: -\n",
        "Download this notebook, Solve it and upload in the google form given in the mail."
      ],
      "metadata": {
        "id": "dkGbTD94s6CD"
      }
    },
    {
      "cell_type": "markdown",
      "source": [
        "## control flow and conditional statements"
      ],
      "metadata": {
        "id": "n3FuI-mutNl6"
      }
    },
    {
      "cell_type": "markdown",
      "source": [
        "Q1. Find the largest number from the given list, use for loop.\n",
        "\n",
        "```\n",
        "numbers = [12, 75, 150, 180, 145, 525, 50]\n",
        "```"
      ],
      "metadata": {
        "id": "NCW2epdyuJ-a"
      }
    },
    {
      "cell_type": "code",
      "source": [
        "numbers =[12,75,150,180,145,525,50]\n",
        "max_numbers = max(numbers)\n",
        "print(max_numbers)"
      ],
      "metadata": {
        "colab": {
          "base_uri": "https://localhost:8080/"
        },
        "id": "fxWWfjUsjM69",
        "outputId": "2ae218f5-e193-4b66-d9cd-4a11f20aeff7"
      },
      "execution_count": 1,
      "outputs": [
        {
          "output_type": "stream",
          "name": "stdout",
          "text": [
            "525\n"
          ]
        }
      ]
    },
    {
      "cell_type": "markdown",
      "source": [
        "Q2. Print all the even number between (1, 12)."
      ],
      "metadata": {
        "id": "Qsg0i1fTwEQj"
      }
    },
    {
      "cell_type": "code",
      "source": [
        "num = 2\n",
        "while num <= 12:\n",
        "  print(num)\n",
        "  num = num+2"
      ],
      "metadata": {
        "colab": {
          "base_uri": "https://localhost:8080/"
        },
        "id": "psZl7ecckXSC",
        "outputId": "c158126b-9b17-49f9-cf6b-125149fa793d"
      },
      "execution_count": 2,
      "outputs": [
        {
          "output_type": "stream",
          "name": "stdout",
          "text": [
            "2\n",
            "4\n",
            "6\n",
            "8\n",
            "10\n",
            "12\n"
          ]
        }
      ]
    },
    {
      "cell_type": "markdown",
      "source": [
        "Q3. Calculate the sum of all numbers from 1 to a given number\n",
        "    \n",
        "    Expected Output:\n",
        "\n",
        "    Enter number 10\n",
        "    \n",
        "    Sum is:  55\n"
      ],
      "metadata": {
        "id": "WG2QcDDhwi4a"
      }
    },
    {
      "cell_type": "code",
      "source": [
        "num = 10\n",
        "if num < 0:\n",
        "  print(\"Enter a positive number\")\n",
        "else:\n",
        "  sum = 0\n",
        "  while(num > 0):\n",
        "    sum += num\n",
        "    num -= 1\n",
        "  print(\"The sum is\",sum)"
      ],
      "metadata": {
        "colab": {
          "base_uri": "https://localhost:8080/"
        },
        "id": "RYM-YxgFlz0x",
        "outputId": "e5c98c75-3384-4add-acee-417c9ba22de2"
      },
      "execution_count": 12,
      "outputs": [
        {
          "output_type": "stream",
          "name": "stdout",
          "text": [
            "The sum is 55\n"
          ]
        }
      ]
    },
    {
      "cell_type": "markdown",
      "source": [
        "Q4. Write a program to display only those numbers from a list that satisfy the following conditions\n",
        "\n",
        "- The number must be divisible by five\n",
        "\n",
        "- If the number is greater than 150, then skip it and move to the next number\n",
        "\n",
        "- If the number is greater than 500, then stop the loop"
      ],
      "metadata": {
        "id": "mc7lLUm5f4Cq"
      }
    },
    {
      "cell_type": "code",
      "source": [
        "# Given:\n",
        "a = [12, 75, 150, 180, 145, 525, 50]\n",
        "b = []\n",
        "for i in a:\n",
        "  if i > 150:\n",
        "    if i > 500:\n",
        "      break\n",
        "    continue\n",
        "  if i % 5 == 0:\n",
        "    b.append(i)\n",
        "print(b)"
      ],
      "metadata": {
        "id": "P3Ct2ocKf6Hy",
        "colab": {
          "base_uri": "https://localhost:8080/"
        },
        "outputId": "8f60cb56-334f-47e9-9e86-998e91adcd0c"
      },
      "execution_count": 6,
      "outputs": [
        {
          "output_type": "stream",
          "name": "stdout",
          "text": [
            "[75, 150, 145]\n"
          ]
        }
      ]
    },
    {
      "cell_type": "markdown",
      "source": [
        "Q5. Print the given list in reverse order.\n",
        "\n",
        "```\n",
        "list1 = [10, 20, 30, 40, 50]\n",
        "```"
      ],
      "metadata": {
        "id": "rrxWvy7nMnAs"
      }
    },
    {
      "cell_type": "code",
      "source": [
        "list1 = [10,20,30,40,50]\n",
        "list1 = list1[::-1]\n",
        "print(list1)"
      ],
      "metadata": {
        "id": "z-GDgPn3Nr0y",
        "colab": {
          "base_uri": "https://localhost:8080/"
        },
        "outputId": "2e7468e5-3ba0-4d47-93a9-f482c1fe333d"
      },
      "execution_count": 10,
      "outputs": [
        {
          "output_type": "stream",
          "name": "stdout",
          "text": [
            "[50, 40, 30, 20, 10]\n"
          ]
        }
      ]
    }
  ]
}